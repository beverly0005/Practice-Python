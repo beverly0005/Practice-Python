{
 "cells": [
  {
   "cell_type": "markdown",
   "id": "9f80aafd",
   "metadata": {
    "hide_input": true
   },
   "source": [
    "# Searchable PDF: Use Tabula"
   ]
  },
  {
   "cell_type": "markdown",
   "id": "72cddb11",
   "metadata": {},
   "source": [
    "refer to https://medium.com/analytics-vidhya/how-to-extract-multiple-tables-from-a-pdf-through-python-and-tabula-py-6f642a9ee673"
   ]
  },
  {
   "cell_type": "markdown",
   "id": "83331900",
   "metadata": {
    "ExecuteTime": {
     "start_time": "2022-10-13T08:38:28.096Z"
    }
   },
   "source": [
    "+ !pip uninstall tabula\n",
    "+ !pip3 install tabula-py # old version has issues with read_pdf\n",
    "+ install java 8+ and set java to PATH"
   ]
  },
  {
   "cell_type": "code",
   "execution_count": null,
   "id": "93337c4f",
   "metadata": {
    "ExecuteTime": {
     "end_time": "2022-10-15T11:00:57.975890Z",
     "start_time": "2022-10-15T11:00:57.556471Z"
    }
   },
   "outputs": [],
   "source": [
    "from tabula.io import read_pdf\n",
    "import pandas as pd\n",
    "from datetime import datetime\n",
    "from pdf_utils import *"
   ]
  },
  {
   "cell_type": "markdown",
   "id": "a90cc47c",
   "metadata": {},
   "source": [
    "## Read PDF"
   ]
  },
  {
   "cell_type": "code",
   "execution_count": null,
   "id": "5812cd03",
   "metadata": {
    "ExecuteTime": {
     "end_time": "2022-10-15T11:00:58.725877Z",
     "start_time": "2022-10-15T11:00:57.976383Z"
    },
    "scrolled": true
   },
   "outputs": [],
   "source": [
    "# Define area to extract data\n",
    "box = [3, 1, 27, 30]  # unit: cm [top, left, width, bottom]\n",
    "\n",
    "# Convert to pdf point: 1 pt = 1/72 inch, 1 inch = 2.54 cm\n",
    "fc = 1/2.54*72\n",
    "box = [round(i*fc, 2) for i in box]\n",
    "print(box)\n",
    "\n",
    "# read pdf: need to install java\n",
    "# area: analyze(top,left,bottom,right)\n",
    "# use guess=False to ensure it capture all content in the page\n",
    "df = read_pdf('citi_test1.pdf', pages=[2, 3], area=[box],\n",
    "              output_format='json', stream=True, lattice=False, guess=False)"
   ]
  },
  {
   "cell_type": "code",
   "execution_count": null,
   "id": "ae408507",
   "metadata": {
    "ExecuteTime": {
     "end_time": "2022-10-15T11:00:59.547157Z",
     "start_time": "2022-10-15T11:00:58.730794Z"
    }
   },
   "outputs": [],
   "source": [
    "convert_df('citi_test1.pdf', page_range=[2,3])"
   ]
  },
  {
   "cell_type": "markdown",
   "id": "0fefd16f",
   "metadata": {},
   "source": [
    "## Exploration"
   ]
  },
  {
   "cell_type": "code",
   "execution_count": null,
   "id": "c835348f",
   "metadata": {
    "ExecuteTime": {
     "end_time": "2022-10-15T11:00:59.559776Z",
     "start_time": "2022-10-15T11:00:59.547652Z"
    },
    "scrolled": true
   },
   "outputs": [],
   "source": [
    "for data in df[0]['data']:\n",
    "    print('------------------------------')\n",
    "    for item in data:\n",
    "        print(item['left'], round(item['left']+item['width'],1), item['text'])"
   ]
  },
  {
   "cell_type": "markdown",
   "id": "9d550536",
   "metadata": {},
   "source": [
    "## Parse Data"
   ]
  },
  {
   "cell_type": "markdown",
   "id": "aed0eb07",
   "metadata": {},
   "source": [
    "df[page][‘data’][row][column][‘text’]"
   ]
  },
  {
   "cell_type": "markdown",
   "id": "32ded6d0",
   "metadata": {},
   "source": [
    "### DBS"
   ]
  },
  {
   "cell_type": "code",
   "execution_count": null,
   "id": "3637570d",
   "metadata": {
    "ExecuteTime": {
     "end_time": "2022-10-15T11:01:00.367982Z",
     "start_time": "2022-10-15T11:00:59.563048Z"
    },
    "scrolled": true
   },
   "outputs": [],
   "source": [
    "tbl = convert_df('test2.pdf', [4, 5, 6, 7, 8])\n",
    "tbl = post_process(tbl, bank='DBS')\n",
    "tbl"
   ]
  },
  {
   "cell_type": "markdown",
   "id": "5b6bf3bd",
   "metadata": {},
   "source": [
    "### Citi"
   ]
  },
  {
   "cell_type": "code",
   "execution_count": null,
   "id": "3fd1c35a",
   "metadata": {
    "ExecuteTime": {
     "end_time": "2022-10-15T11:01:01.209113Z",
     "start_time": "2022-10-15T11:01:00.368114Z"
    },
    "scrolled": true
   },
   "outputs": [],
   "source": [
    "tbl = convert_df('citi_test2.pdf', page_range=[2, 3], bank='Citi')\n",
    "tbl = post_process(tbl, bank='Citi')\n",
    "tbl"
   ]
  },
  {
   "cell_type": "code",
   "execution_count": null,
   "id": "97a901c0",
   "metadata": {},
   "outputs": [],
   "source": []
  },
  {
   "cell_type": "markdown",
   "id": "0200a31c",
   "metadata": {},
   "source": [
    "# Searchable PDF: Use pdfminer"
   ]
  },
  {
   "cell_type": "markdown",
   "id": "12aea78f",
   "metadata": {
    "ExecuteTime": {
     "end_time": "2022-10-15T11:23:52.739570Z",
     "start_time": "2022-10-15T11:23:52.729515Z"
    }
   },
   "source": [
    "Good for extracting text only, not good for tabular information"
   ]
  },
  {
   "cell_type": "code",
   "execution_count": null,
   "id": "818b1e65",
   "metadata": {
    "ExecuteTime": {
     "end_time": "2022-10-15T11:28:58.973859Z",
     "start_time": "2022-10-15T11:28:58.440735Z"
    }
   },
   "outputs": [],
   "source": [
    "from pdfminer.high_level import extract_text\n",
    "\n",
    "pdf_file = open('test1.pdf', 'rb')\n",
    "text = extract_text(pdf_file, password='', page_numbers=None, maxpages=0, \n",
    "                    caching=True, codec='utf-8', laparams=None)\n",
    "print(text)"
   ]
  },
  {
   "cell_type": "code",
   "execution_count": null,
   "id": "a5cf52d4",
   "metadata": {},
   "outputs": [],
   "source": []
  },
  {
   "cell_type": "markdown",
   "id": "f25afbcd",
   "metadata": {},
   "source": [
    "# Searchable PDF: Use PyPDF2"
   ]
  },
  {
   "cell_type": "markdown",
   "id": "e417f4b4",
   "metadata": {},
   "source": [
    "Same as pdfminer, good for text extraction but not for tabular information"
   ]
  },
  {
   "cell_type": "code",
   "execution_count": null,
   "id": "6181ac36",
   "metadata": {
    "ExecuteTime": {
     "end_time": "2022-10-15T11:32:20.786393Z",
     "start_time": "2022-10-15T11:32:20.570916Z"
    }
   },
   "outputs": [],
   "source": [
    "from PyPDF2 import PdfFileReader\n",
    "\n",
    "# creating a pdf file object\n",
    "pdfObject = open('test1.pdf', 'rb')\n",
    "\n",
    "# creating a pdf reader object\n",
    "pdfReader = PdfFileReader(pdfObject)\n",
    "\n",
    "# Extract and concatenate each page's content\n",
    "text=''\n",
    "for i in range(0,pdfReader.numPages):\n",
    "    # creating a page object\n",
    "    pageObject = pdfReader.getPage(i)\n",
    "    # extracting text from page\n",
    "    text += pageObject.extractText()\n",
    "print(text)"
   ]
  },
  {
   "cell_type": "code",
   "execution_count": null,
   "id": "3449498d",
   "metadata": {},
   "outputs": [],
   "source": []
  },
  {
   "cell_type": "markdown",
   "id": "22a5fa17",
   "metadata": {},
   "source": [
    "# Unsearchable PDF: Pytesseract"
   ]
  },
  {
   "cell_type": "markdown",
   "id": "586da374",
   "metadata": {},
   "source": [
    "Tesseract OCR engine: https://github.com/UB-Mannheim/tesseract/wiki\n",
    "+ Refer to installation manual: https://towardsdatascience.com/read-a-multi-column-pdf-with-pytesseract-in-python-1d99015f887a\n",
    "\n",
    "fitz may occur some errors like \"No such module\":\n",
    "+ Need to uninstall and then install PyMuPDF to solve the issue"
   ]
  },
  {
   "cell_type": "markdown",
   "id": "8a39f224",
   "metadata": {},
   "source": [
    "Refer to https://nanonets.com/blog/ocr-with-tesseract/#introduction\n",
    "\n",
    "OCR stands for \"Optical Character Recognition\", which transforms two-dimensional image of text (printed or handwriting) into machine-readable text. OCR generally consists of several subprocesses:\n",
    "+ Preprocessing of the Image\n",
    "+ Text Localization\n",
    "+ Character Segmentation\n",
    "+ Character Recognition\n",
    "+ Post Processing\n",
    "\n",
    "There are many OCR softwares, but only very few are free. Here is the brief summary on some OCR softwares.\n",
    "+ Tesseract: an open-source OCR engine popular among OCR developers. It gained popularity and was developed by HP between 1984 and 1994. In 2005 HP released Tesseract as an open-source software. Since 2006 it is developed by Google.\n",
    "+ OCRopus: an open-source OCR system allowing easy evaluation and reuse of the OCR components by both researchers and companies.\n",
    "+ Ocular：it works best on documents printed using a hand press, including those written in multiple languages.\n",
    "+ SwiftOCR: a fast and simple OCR library that uses neural networks for image recognition. SwiftOCR claims that their engine outperforms well known Tessaract library.\n",
    "\n",
    "Tesseract OCR process:\n",
    "+ <b> original image $\\rightarrow$ adaptive binarization $\\rightarrow$ binary image <b>\n",
    "+ <b> binary image $\\rightarrow$ component analysis $\\rightarrow$ contour detection $\\rightarrow$ detection of word paragraph lines<b>\n",
    "+ <b> detection $\\rightarrow$ organization words $\\rightarrow$ two steps recoginition $\\rightarrow$ editable document<b>"
   ]
  },
  {
   "cell_type": "markdown",
   "id": "9b2e74b9",
   "metadata": {
    "ExecuteTime": {
     "end_time": "2022-10-15T14:57:51.019875Z",
     "start_time": "2022-10-15T14:57:48.022336Z"
    }
   },
   "source": [
    "!pip install pytesseract\n",
    "!pip install opencv-contrib-python\n",
    "!pip install PyMuPDF  # install fitz directly will have ModuleNotFoundError for \"frontend\" in importing, solved by installing pymupdf instead"
   ]
  },
  {
   "cell_type": "code",
   "execution_count": null,
   "id": "260e53d8",
   "metadata": {
    "ExecuteTime": {
     "end_time": "2022-10-16T03:59:29.667476Z",
     "start_time": "2022-10-16T03:59:27.866443Z"
    }
   },
   "outputs": [],
   "source": [
    "# for manipulating the PDF\n",
    "import fitz\n",
    "\n",
    "# for OCR using PyTesseract\n",
    "import cv2                              # pre-processing images\n",
    "import pytesseract                      # extracting text from images\n",
    "import numpy as np\n",
    "import matplotlib.pyplot as plt         # displaying output images\n",
    "\n",
    "from PIL import Image\n",
    "import os"
   ]
  },
  {
   "cell_type": "code",
   "execution_count": null,
   "id": "df6b5b01",
   "metadata": {
    "ExecuteTime": {
     "end_time": "2022-10-16T15:08:15.645555Z",
     "start_time": "2022-10-16T15:08:15.634324Z"
    }
   },
   "outputs": [],
   "source": [
    "pdf_to_img(\"test_text.pdf\", img_folder='img')"
   ]
  },
  {
   "cell_type": "markdown",
   "id": "62a35e33",
   "metadata": {},
   "source": [
    "## Binarize image"
   ]
  },
  {
   "cell_type": "code",
   "execution_count": null,
   "id": "ac554046",
   "metadata": {
    "ExecuteTime": {
     "end_time": "2022-10-16T14:37:00.108934Z",
     "start_time": "2022-10-16T14:37:00.068245Z"
    }
   },
   "outputs": [],
   "source": [
    "original_image, threshold_image = to_binary_img('img/test_textpage-1.png')"
   ]
  },
  {
   "cell_type": "code",
   "execution_count": null,
   "id": "713c23a9",
   "metadata": {
    "ExecuteTime": {
     "end_time": "2022-10-16T14:40:45.098089Z",
     "start_time": "2022-10-16T14:40:44.731953Z"
    },
    "scrolled": true
   },
   "outputs": [],
   "source": [
    "# Convert the image to grayscale\n",
    "gray_image = cv2.cvtColor(original_image, cv2.COLOR_BGR2GRAY) # convert image from one color space to another\n",
    "plt.figure(figsize=(20, 15))\n",
    "plt.imshow(gray_image, cmap='gray')\n",
    "plt.show()"
   ]
  },
  {
   "cell_type": "code",
   "execution_count": null,
   "id": "7c4f980e",
   "metadata": {
    "ExecuteTime": {
     "end_time": "2022-10-16T14:40:53.951574Z",
     "start_time": "2022-10-16T14:40:53.554225Z"
    },
    "scrolled": true
   },
   "outputs": [],
   "source": [
    "# Convert grayscale to white and black\n",
    "ret, threshold_image = cv2.threshold(gray_image, 0, 255, cv2.THRESH_OTSU | cv2.THRESH_BINARY_INV)\n",
    "plt.figure(figsize=(20, 15))\n",
    "plt.imshow(threshold_image, cmap='gray')\n",
    "plt.show()"
   ]
  },
  {
   "cell_type": "markdown",
   "id": "be420775",
   "metadata": {},
   "source": [
    "## Localize text"
   ]
  },
  {
   "cell_type": "code",
   "execution_count": null,
   "id": "e49d3ef7",
   "metadata": {
    "ExecuteTime": {
     "end_time": "2022-10-16T15:07:02.977999Z",
     "start_time": "2022-10-16T15:07:01.345849Z"
    }
   },
   "outputs": [],
   "source": [
    "masked = OCR_text(original_image, threshold_image, text_file='img_text.txt', local_area=(66,66))"
   ]
  },
  {
   "cell_type": "code",
   "execution_count": null,
   "id": "541cdba3",
   "metadata": {
    "ExecuteTime": {
     "end_time": "2022-10-16T15:14:31.266012Z",
     "start_time": "2022-10-16T15:14:30.855838Z"
    }
   },
   "outputs": [],
   "source": [
    "plt.figure(figsize=(20, 15))\n",
    "plt.imshow(masked)\n",
    "plt.show()"
   ]
  },
  {
   "cell_type": "code",
   "execution_count": null,
   "id": "b6d1c3a4",
   "metadata": {},
   "outputs": [],
   "source": []
  }
 ],
 "metadata": {
  "kernelspec": {
   "display_name": "Python 3 (ipykernel)",
   "language": "python",
   "name": "python3"
  },
  "language_info": {
   "codemirror_mode": {
    "name": "ipython",
    "version": 3
   },
   "file_extension": ".py",
   "mimetype": "text/x-python",
   "name": "python",
   "nbconvert_exporter": "python",
   "pygments_lexer": "ipython3",
   "version": "3.9.12"
  },
  "toc": {
   "base_numbering": 1,
   "nav_menu": {},
   "number_sections": true,
   "sideBar": true,
   "skip_h1_title": false,
   "title_cell": "Table of Contents",
   "title_sidebar": "Contents",
   "toc_cell": false,
   "toc_position": {
    "height": "calc(100% - 180px)",
    "left": "10px",
    "top": "150px",
    "width": "288px"
   },
   "toc_section_display": true,
   "toc_window_display": true
  },
  "varInspector": {
   "cols": {
    "lenName": 16,
    "lenType": 16,
    "lenVar": 40
   },
   "kernels_config": {
    "python": {
     "delete_cmd_postfix": "",
     "delete_cmd_prefix": "del ",
     "library": "var_list.py",
     "varRefreshCmd": "print(var_dic_list())"
    },
    "r": {
     "delete_cmd_postfix": ") ",
     "delete_cmd_prefix": "rm(",
     "library": "var_list.r",
     "varRefreshCmd": "cat(var_dic_list()) "
    }
   },
   "types_to_exclude": [
    "module",
    "function",
    "builtin_function_or_method",
    "instance",
    "_Feature"
   ],
   "window_display": false
  }
 },
 "nbformat": 4,
 "nbformat_minor": 5
}
